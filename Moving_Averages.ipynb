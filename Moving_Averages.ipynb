{
  "nbformat": 4,
  "nbformat_minor": 0,
  "metadata": {
    "colab": {
      "name": "Moving Averages.ipynb",
      "provenance": [],
      "authorship_tag": "ABX9TyM7Ya6zIB/rWmR3zVzSFHjH",
      "include_colab_link": true
    },
    "kernelspec": {
      "name": "python3",
      "display_name": "Python 3"
    },
    "language_info": {
      "name": "python"
    }
  },
  "cells": [
    {
      "cell_type": "markdown",
      "metadata": {
        "id": "view-in-github",
        "colab_type": "text"
      },
      "source": [
        "<a href=\"https://colab.research.google.com/github/kunal24bit/Time-Series-Analysis/blob/main/Moving_Averages.ipynb\" target=\"_parent\"><img src=\"https://colab.research.google.com/assets/colab-badge.svg\" alt=\"Open In Colab\"/></a>"
      ]
    },
    {
      "cell_type": "code",
      "metadata": {
        "id": "z8KkRScMDrfv"
      },
      "source": [
        ""
      ],
      "execution_count": null,
      "outputs": []
    },
    {
      "cell_type": "code",
      "metadata": {
        "id": "qpnSAlH7e25V"
      },
      "source": [
        "import matplotlib as mpl\n",
        "import matplotlib.pyplot as plt\n",
        "import pandas as pd\n",
        "import numpy as np \n",
        "import os\n",
        "from datetime import datetime"
      ],
      "execution_count": null,
      "outputs": []
    },
    {
      "cell_type": "code",
      "metadata": {
        "id": "Ei7uolfnDtV-"
      },
      "source": [
        "mpl.rcParams[\"figure.figsize\"] = (10,8)\n",
        "mpl.rcParams[\"axes.grid\"] = False"
      ],
      "execution_count": null,
      "outputs": []
    },
    {
      "cell_type": "code",
      "metadata": {
        "id": "RWyace0UEEmD"
      },
      "source": [
        "def parse(x):\n",
        "  return datetime.strptime(x,\"%m/%d/%Y\")\n",
        "\n"
      ],
      "execution_count": 15,
      "outputs": []
    },
    {
      "cell_type": "code",
      "metadata": {
        "colab": {
          "base_uri": "https://localhost:8080/",
          "height": 197
        },
        "id": "t3PLIfb0Eb4v",
        "outputId": "00ffa020-f961-4da8-b5b7-b53571ffce99"
      },
      "source": [
        "df = pd.read_csv(\"https://raw.githubusercontent.com/srivatsan88/YouTubeLI/master/dataset/electricity_consumption.csv\", parse_dates=[\"Bill_Date\"], date_parser = parse)\n",
        "\n",
        "df.head()"
      ],
      "execution_count": 17,
      "outputs": [
        {
          "output_type": "execute_result",
          "data": {
            "text/html": [
              "<div>\n",
              "<style scoped>\n",
              "    .dataframe tbody tr th:only-of-type {\n",
              "        vertical-align: middle;\n",
              "    }\n",
              "\n",
              "    .dataframe tbody tr th {\n",
              "        vertical-align: top;\n",
              "    }\n",
              "\n",
              "    .dataframe thead th {\n",
              "        text-align: right;\n",
              "    }\n",
              "</style>\n",
              "<table border=\"1\" class=\"dataframe\">\n",
              "  <thead>\n",
              "    <tr style=\"text-align: right;\">\n",
              "      <th></th>\n",
              "      <th>Bill_Date</th>\n",
              "      <th>On_peak</th>\n",
              "      <th>Off_peak</th>\n",
              "      <th>Usage_charge</th>\n",
              "      <th>Billed_amount</th>\n",
              "      <th>Billing_days</th>\n",
              "    </tr>\n",
              "  </thead>\n",
              "  <tbody>\n",
              "    <tr>\n",
              "      <th>0</th>\n",
              "      <td>2016-01-01</td>\n",
              "      <td>365</td>\n",
              "      <td>1423.5</td>\n",
              "      <td>219.0</td>\n",
              "      <td>247.73</td>\n",
              "      <td>31</td>\n",
              "    </tr>\n",
              "    <tr>\n",
              "      <th>1</th>\n",
              "      <td>2016-02-01</td>\n",
              "      <td>292</td>\n",
              "      <td>1138.8</td>\n",
              "      <td>175.2</td>\n",
              "      <td>234.11</td>\n",
              "      <td>31</td>\n",
              "    </tr>\n",
              "    <tr>\n",
              "      <th>2</th>\n",
              "      <td>2016-03-01</td>\n",
              "      <td>130</td>\n",
              "      <td>507.0</td>\n",
              "      <td>78.0</td>\n",
              "      <td>123.85</td>\n",
              "      <td>29</td>\n",
              "    </tr>\n",
              "    <tr>\n",
              "      <th>3</th>\n",
              "      <td>2016-04-01</td>\n",
              "      <td>117</td>\n",
              "      <td>456.3</td>\n",
              "      <td>70.2</td>\n",
              "      <td>111.22</td>\n",
              "      <td>29</td>\n",
              "    </tr>\n",
              "    <tr>\n",
              "      <th>4</th>\n",
              "      <td>2016-05-01</td>\n",
              "      <td>136</td>\n",
              "      <td>530.4</td>\n",
              "      <td>81.6</td>\n",
              "      <td>118.37</td>\n",
              "      <td>29</td>\n",
              "    </tr>\n",
              "  </tbody>\n",
              "</table>\n",
              "</div>"
            ],
            "text/plain": [
              "   Bill_Date  On_peak  Off_peak  Usage_charge  Billed_amount  Billing_days\n",
              "0 2016-01-01      365    1423.5         219.0         247.73            31\n",
              "1 2016-02-01      292    1138.8         175.2         234.11            31\n",
              "2 2016-03-01      130     507.0          78.0         123.85            29\n",
              "3 2016-04-01      117     456.3          70.2         111.22            29\n",
              "4 2016-05-01      136     530.4          81.6         118.37            29"
            ]
          },
          "metadata": {
            "tags": []
          },
          "execution_count": 17
        }
      ]
    },
    {
      "cell_type": "code",
      "metadata": {
        "id": "tNwC0EsjFv-R",
        "colab": {
          "base_uri": "https://localhost:8080/"
        },
        "outputId": "7b8d4231-c422-49ce-c726-132ba43e4599"
      },
      "source": [
        "print(\"Rows\", df.shape[0])\n",
        "print(\"COlumns\", df.shape[1])\n",
        "print(\"\\n Features:\\n\\n\", df.columns.tolist())\n",
        "print(\"\\n Missing Values :\\n\\n\", df.isnull().any())\n",
        "print(\"\\n Unique Values:\\n\\n\", df.nunique())"
      ],
      "execution_count": 23,
      "outputs": [
        {
          "output_type": "stream",
          "text": [
            "Rows 53\n",
            "COlumns 6\n",
            "\n",
            " Features:\n",
            "\n",
            " ['Bill_Date', 'On_peak', 'Off_peak', 'Usage_charge', 'Billed_amount', 'Billing_days']\n",
            "\n",
            " Missing Values :\n",
            "\n",
            " Bill_Date        False\n",
            "On_peak          False\n",
            "Off_peak         False\n",
            "Usage_charge     False\n",
            "Billed_amount    False\n",
            "Billing_days     False\n",
            "dtype: bool\n",
            "\n",
            " Unique Values:\n",
            "\n",
            " Bill_Date        53\n",
            "On_peak          51\n",
            "Off_peak         53\n",
            "Usage_charge     53\n",
            "Billed_amount    52\n",
            "Billing_days      9\n",
            "dtype: int64\n"
          ],
          "name": "stdout"
        }
      ]
    },
    {
      "cell_type": "code",
      "metadata": {
        "id": "HtAGWXbUHwPp"
      },
      "source": [
        ""
      ],
      "execution_count": null,
      "outputs": []
    }
  ]
}