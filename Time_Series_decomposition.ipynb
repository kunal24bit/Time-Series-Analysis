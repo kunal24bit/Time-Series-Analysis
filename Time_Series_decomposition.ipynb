{
  "nbformat": 4,
  "nbformat_minor": 0,
  "metadata": {
    "colab": {
      "name": "Time Series decomposition.ipynb",
      "provenance": [],
      "authorship_tag": "ABX9TyPCLIPlxPWMRA9zMq81erx/",
      "include_colab_link": true
    },
    "kernelspec": {
      "name": "python3",
      "display_name": "Python 3"
    },
    "language_info": {
      "name": "python"
    }
  },
  "cells": [
    {
      "cell_type": "markdown",
      "metadata": {
        "id": "view-in-github",
        "colab_type": "text"
      },
      "source": [
        "<a href=\"https://colab.research.google.com/github/kunal24bit/Time-Series-Analysis/blob/main/Time_Series_decomposition.ipynb\" target=\"_parent\"><img src=\"https://colab.research.google.com/assets/colab-badge.svg\" alt=\"Open In Colab\"/></a>"
      ]
    },
    {
      "cell_type": "code",
      "metadata": {
        "id": "bfdk48IynS4A"
      },
      "source": [
        "import matplotlib as mpl\n",
        "import matplotlib.pyplot as plt\n",
        "import pandas as pd\n",
        "import numpy as np \n",
        "import os\n",
        "from datetime import datetime"
      ],
      "execution_count": 1,
      "outputs": []
    },
    {
      "cell_type": "code",
      "metadata": {
        "id": "AqtVI67GnYdB"
      },
      "source": [
        "mpl.rcParams[\"figure.figsize\"] = (10,8)\n",
        "mpl.rcParams[\"axes.grid\"] = False"
      ],
      "execution_count": 2,
      "outputs": []
    },
    {
      "cell_type": "code",
      "metadata": {
        "id": "tYTMVJNUnnfc"
      },
      "source": [
        "def parse(x):\n",
        "  return datetime.strptime(x, \"%m/%d/%y\")"
      ],
      "execution_count": 3,
      "outputs": []
    },
    {
      "cell_type": "code",
      "metadata": {
        "id": "4CnOB77Qn8Ab"
      },
      "source": [
        "df = pd.read_csv(\"https://raw.githubusercontent.com/srivatsan88/YouTubeLI/master/dataset/amazon_revenue_profit.csv\", parse_dates=[\"Quarter\"], date_parser=None)"
      ],
      "execution_count": 4,
      "outputs": []
    },
    {
      "cell_type": "code",
      "metadata": {
        "id": "AL0ccEBfoSY9",
        "colab": {
          "base_uri": "https://localhost:8080/",
          "height": 204
        },
        "outputId": "19c6f900-3153-4e75-eed6-f9ceeed60740"
      },
      "source": [
        "df.head()"
      ],
      "execution_count": 5,
      "outputs": [
        {
          "output_type": "execute_result",
          "data": {
            "text/html": [
              "<div>\n",
              "<style scoped>\n",
              "    .dataframe tbody tr th:only-of-type {\n",
              "        vertical-align: middle;\n",
              "    }\n",
              "\n",
              "    .dataframe tbody tr th {\n",
              "        vertical-align: top;\n",
              "    }\n",
              "\n",
              "    .dataframe thead th {\n",
              "        text-align: right;\n",
              "    }\n",
              "</style>\n",
              "<table border=\"1\" class=\"dataframe\">\n",
              "  <thead>\n",
              "    <tr style=\"text-align: right;\">\n",
              "      <th></th>\n",
              "      <th>Quarter</th>\n",
              "      <th>Revenue</th>\n",
              "      <th>Net Income</th>\n",
              "    </tr>\n",
              "  </thead>\n",
              "  <tbody>\n",
              "    <tr>\n",
              "      <th>0</th>\n",
              "      <td>2020-03-31</td>\n",
              "      <td>75452</td>\n",
              "      <td>2535</td>\n",
              "    </tr>\n",
              "    <tr>\n",
              "      <th>1</th>\n",
              "      <td>2019-12-31</td>\n",
              "      <td>87437</td>\n",
              "      <td>3268</td>\n",
              "    </tr>\n",
              "    <tr>\n",
              "      <th>2</th>\n",
              "      <td>2019-09-30</td>\n",
              "      <td>69981</td>\n",
              "      <td>2134</td>\n",
              "    </tr>\n",
              "    <tr>\n",
              "      <th>3</th>\n",
              "      <td>2019-06-30</td>\n",
              "      <td>63404</td>\n",
              "      <td>2625</td>\n",
              "    </tr>\n",
              "    <tr>\n",
              "      <th>4</th>\n",
              "      <td>2019-03-31</td>\n",
              "      <td>59700</td>\n",
              "      <td>3561</td>\n",
              "    </tr>\n",
              "  </tbody>\n",
              "</table>\n",
              "</div>"
            ],
            "text/plain": [
              "     Quarter  Revenue  Net Income\n",
              "0 2020-03-31    75452        2535\n",
              "1 2019-12-31    87437        3268\n",
              "2 2019-09-30    69981        2134\n",
              "3 2019-06-30    63404        2625\n",
              "4 2019-03-31    59700        3561"
            ]
          },
          "metadata": {
            "tags": []
          },
          "execution_count": 5
        }
      ]
    },
    {
      "cell_type": "code",
      "metadata": {
        "colab": {
          "base_uri": "https://localhost:8080/"
        },
        "id": "b6jWy1mwpxq4",
        "outputId": "050a1404-ed0d-4aeb-e5c2-5d2d84090ca4"
      },
      "source": [
        "print(\"Rows\", df.shape[0])\n",
        "print(\"Columns\", df.shape[1])\n",
        "print(\"\\n Features:\\n\\n\", df.columns.tolist())\n",
        "print(\"\\n Missing Values :\\n\\n\", df.isnull().any())\n",
        "print(\"\\n Unique Values:\\n\\n\", df.nunique())"
      ],
      "execution_count": 6,
      "outputs": [
        {
          "output_type": "stream",
          "text": [
            "Rows 61\n",
            "Columns 3\n",
            "\n",
            " Features:\n",
            "\n",
            " ['Quarter', 'Revenue', 'Net Income']\n",
            "\n",
            " Missing Values :\n",
            "\n",
            " Quarter       False\n",
            "Revenue       False\n",
            "Net Income    False\n",
            "dtype: bool\n",
            "\n",
            " Unique Values:\n",
            "\n",
            " Quarter       61\n",
            "Revenue       61\n",
            "Net Income    57\n",
            "dtype: int64\n"
          ],
          "name": "stdout"
        }
      ]
    },
    {
      "cell_type": "code",
      "metadata": {
        "id": "EXv1KrZ8q1zS"
      },
      "source": [
        "amazon_df = df.set_index(\"Quarter\")"
      ],
      "execution_count": 7,
      "outputs": []
    },
    {
      "cell_type": "code",
      "metadata": {
        "colab": {
          "base_uri": "https://localhost:8080/",
          "height": 235
        },
        "id": "_9chSJ5trBZP",
        "outputId": "174a6d38-df2c-4034-848b-b0f4fe52e901"
      },
      "source": [
        "amazon_df.head()"
      ],
      "execution_count": 8,
      "outputs": [
        {
          "output_type": "execute_result",
          "data": {
            "text/html": [
              "<div>\n",
              "<style scoped>\n",
              "    .dataframe tbody tr th:only-of-type {\n",
              "        vertical-align: middle;\n",
              "    }\n",
              "\n",
              "    .dataframe tbody tr th {\n",
              "        vertical-align: top;\n",
              "    }\n",
              "\n",
              "    .dataframe thead th {\n",
              "        text-align: right;\n",
              "    }\n",
              "</style>\n",
              "<table border=\"1\" class=\"dataframe\">\n",
              "  <thead>\n",
              "    <tr style=\"text-align: right;\">\n",
              "      <th></th>\n",
              "      <th>Revenue</th>\n",
              "      <th>Net Income</th>\n",
              "    </tr>\n",
              "    <tr>\n",
              "      <th>Quarter</th>\n",
              "      <th></th>\n",
              "      <th></th>\n",
              "    </tr>\n",
              "  </thead>\n",
              "  <tbody>\n",
              "    <tr>\n",
              "      <th>2020-03-31</th>\n",
              "      <td>75452</td>\n",
              "      <td>2535</td>\n",
              "    </tr>\n",
              "    <tr>\n",
              "      <th>2019-12-31</th>\n",
              "      <td>87437</td>\n",
              "      <td>3268</td>\n",
              "    </tr>\n",
              "    <tr>\n",
              "      <th>2019-09-30</th>\n",
              "      <td>69981</td>\n",
              "      <td>2134</td>\n",
              "    </tr>\n",
              "    <tr>\n",
              "      <th>2019-06-30</th>\n",
              "      <td>63404</td>\n",
              "      <td>2625</td>\n",
              "    </tr>\n",
              "    <tr>\n",
              "      <th>2019-03-31</th>\n",
              "      <td>59700</td>\n",
              "      <td>3561</td>\n",
              "    </tr>\n",
              "  </tbody>\n",
              "</table>\n",
              "</div>"
            ],
            "text/plain": [
              "            Revenue  Net Income\n",
              "Quarter                        \n",
              "2020-03-31    75452        2535\n",
              "2019-12-31    87437        3268\n",
              "2019-09-30    69981        2134\n",
              "2019-06-30    63404        2625\n",
              "2019-03-31    59700        3561"
            ]
          },
          "metadata": {
            "tags": []
          },
          "execution_count": 8
        }
      ]
    },
    {
      "cell_type": "code",
      "metadata": {
        "colab": {
          "base_uri": "https://localhost:8080/",
          "height": 514
        },
        "id": "rSDbApcNrkPX",
        "outputId": "ce59cc80-5b4f-47cb-c0ca-505da01bfadd"
      },
      "source": [
        "amazon_df.plot()"
      ],
      "execution_count": 9,
      "outputs": [
        {
          "output_type": "execute_result",
          "data": {
            "text/plain": [
              "<matplotlib.axes._subplots.AxesSubplot at 0x7f4ff9ef0a50>"
            ]
          },
          "metadata": {
            "tags": []
          },
          "execution_count": 9
        },
        {
          "output_type": "display_data",
          "data": {
            "image/png": "[encoded data removed]",
            "text/plain": [
              "<Figure size 720x576 with 1 Axes>"
            ]
          },
          "metadata": {
            "tags": [],
            "needs_background": "light"
          }
        }
      ]
    },
    {
      "cell_type": "code",
      "metadata": {
        "id": "l7NM-fwLrnOW"
      },
      "source": [
        ""
      ],
      "execution_count": 9,
      "outputs": []
    }
  ]
}